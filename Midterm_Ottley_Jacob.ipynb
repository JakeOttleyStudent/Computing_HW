{
 "cells": [
  {
   "cell_type": "code",
   "execution_count": 61,
   "metadata": {},
   "outputs": [
    {
     "name": "stdout",
     "output_type": "stream",
     "text": [
      "Using matplotlib backend: MacOSX\n",
      "{2: 4, 4: 5, 6: 6, 8: 3, 5: 2, 1: 3, 9: 5, 0: 2, 7: 4, 3: 5, 10: 3}\n"
     ]
    },
    {
     "data": {
      "text/plain": [
       "'{\"2\": 4, \"4\": 5, \"6\": 6, \"8\": 3, \"5\": 2, \"1\": 3, \"9\": 5, \"0\": 2, \"7\": 4, \"3\": 5, \"10\": 3}'"
      ]
     },
     "execution_count": 61,
     "metadata": {},
     "output_type": "execute_result"
    }
   ],
   "source": [
    "#Q1\n",
    "import pandas as pd\n",
    "import numpy as np\n",
    "%matplotlib\n",
    "import matplotlib.pyplot as plt\n",
    "import json\n",
    "\n",
    "unsorted = [2,4,6,8,4,5,2,1,9,0,4,6,7,4,3,2,1,9,10,3,7,9,6,0,1,3,5,6,7,8,9,10,2,3,6,8,9,10,6,7,4,3]\n",
    "\n",
    "def counting(tosort): #defining function\n",
    "    \n",
    "    fnum = {} #making a dictionary\n",
    "    for number in tosort: \n",
    "        if number not in fnum: #creates count when a number appears for the first time\n",
    "            fnum[number] = 1\n",
    "        else: #adds to the count of numbers that have been seen before\n",
    "            fnum[number] += 1\n",
    "    \n",
    "    print(fnum) #prints frequency of each number\n",
    "    \n",
    "    plt.bar(fnum.keys(), fnum.values()) #creates bar chart of frequencies\n",
    "    \n",
    "    return json.dumps(fnum) #returns the results as a json\n",
    "    \n",
    "counting(unsorted)\n"
   ]
  },
  {
   "cell_type": "code",
   "execution_count": 11,
   "metadata": {},
   "outputs": [
    {
     "data": {
      "text/html": [
       "<div>\n",
       "<style scoped>\n",
       "    .dataframe tbody tr th:only-of-type {\n",
       "        vertical-align: middle;\n",
       "    }\n",
       "\n",
       "    .dataframe tbody tr th {\n",
       "        vertical-align: top;\n",
       "    }\n",
       "\n",
       "    .dataframe thead th {\n",
       "        text-align: right;\n",
       "    }\n",
       "</style>\n",
       "<table border=\"1\" class=\"dataframe\">\n",
       "  <thead>\n",
       "    <tr style=\"text-align: right;\">\n",
       "      <th></th>\n",
       "      <th>Order Date</th>\n",
       "      <th>Order ID</th>\n",
       "      <th>Website</th>\n",
       "      <th>Purchase Order Number</th>\n",
       "      <th>Shipment Date</th>\n",
       "      <th>Subtotal</th>\n",
       "      <th>Shipping Charge</th>\n",
       "      <th>Tax Before Promotions</th>\n",
       "      <th>Total Promotions</th>\n",
       "      <th>Tax Charged</th>\n",
       "      <th>Total Charged</th>\n",
       "    </tr>\n",
       "  </thead>\n",
       "  <tbody>\n",
       "    <tr>\n",
       "      <th>0</th>\n",
       "      <td>1/17/10</td>\n",
       "      <td>104-5228802-6864214</td>\n",
       "      <td>Amazon.com</td>\n",
       "      <td>NaN</td>\n",
       "      <td>1/26/10</td>\n",
       "      <td>$41.99</td>\n",
       "      <td>$2.98</td>\n",
       "      <td>$0.00</td>\n",
       "      <td>$2.98</td>\n",
       "      <td>$0.00</td>\n",
       "      <td>$41.99</td>\n",
       "    </tr>\n",
       "    <tr>\n",
       "      <th>1</th>\n",
       "      <td>1/30/10</td>\n",
       "      <td>104-2860256-3389027</td>\n",
       "      <td>Amazon.com</td>\n",
       "      <td>NaN</td>\n",
       "      <td>8/9/10</td>\n",
       "      <td>$24.42</td>\n",
       "      <td>$1.99</td>\n",
       "      <td>$0.00</td>\n",
       "      <td>$0.00</td>\n",
       "      <td>$0.00</td>\n",
       "      <td>$26.41</td>\n",
       "    </tr>\n",
       "    <tr>\n",
       "      <th>2</th>\n",
       "      <td>1/30/10</td>\n",
       "      <td>104-2860256-3389027</td>\n",
       "      <td>Amazon.com</td>\n",
       "      <td>NaN</td>\n",
       "      <td>2/11/10</td>\n",
       "      <td>$24.55</td>\n",
       "      <td>$3.98</td>\n",
       "      <td>$0.00</td>\n",
       "      <td>$0.00</td>\n",
       "      <td>$0.00</td>\n",
       "      <td>$28.53</td>\n",
       "    </tr>\n",
       "    <tr>\n",
       "      <th>3</th>\n",
       "      <td>3/20/10</td>\n",
       "      <td>002-3704252-7730631</td>\n",
       "      <td>Amazon.com</td>\n",
       "      <td>NaN</td>\n",
       "      <td>3/26/10</td>\n",
       "      <td>$26.45</td>\n",
       "      <td>$4.98</td>\n",
       "      <td>$0.00</td>\n",
       "      <td>$4.98</td>\n",
       "      <td>$0.00</td>\n",
       "      <td>$26.45</td>\n",
       "    </tr>\n",
       "    <tr>\n",
       "      <th>4</th>\n",
       "      <td>3/20/10</td>\n",
       "      <td>002-1911220-4068217</td>\n",
       "      <td>Amazon.com</td>\n",
       "      <td>NaN</td>\n",
       "      <td>3/26/10</td>\n",
       "      <td>$12.23</td>\n",
       "      <td>$1.99</td>\n",
       "      <td>$0.00</td>\n",
       "      <td>$1.99</td>\n",
       "      <td>$0.00</td>\n",
       "      <td>$12.23</td>\n",
       "    </tr>\n",
       "  </tbody>\n",
       "</table>\n",
       "</div>"
      ],
      "text/plain": [
       "  Order Date             Order ID     Website  Purchase Order Number  \\\n",
       "0    1/17/10  104-5228802-6864214  Amazon.com                    NaN   \n",
       "1    1/30/10  104-2860256-3389027  Amazon.com                    NaN   \n",
       "2    1/30/10  104-2860256-3389027  Amazon.com                    NaN   \n",
       "3    3/20/10  002-3704252-7730631  Amazon.com                    NaN   \n",
       "4    3/20/10  002-1911220-4068217  Amazon.com                    NaN   \n",
       "\n",
       "  Shipment Date Subtotal Shipping Charge Tax Before Promotions  \\\n",
       "0       1/26/10  $41.99           $2.98                 $0.00    \n",
       "1        8/9/10  $24.42           $1.99                 $0.00    \n",
       "2       2/11/10  $24.55           $3.98                 $0.00    \n",
       "3       3/26/10  $26.45           $4.98                 $0.00    \n",
       "4       3/26/10  $12.23           $1.99                 $0.00    \n",
       "\n",
       "  Total Promotions Tax Charged Total Charged  \n",
       "0           $2.98       $0.00        $41.99   \n",
       "1           $0.00       $0.00        $26.41   \n",
       "2           $0.00       $0.00        $28.53   \n",
       "3           $4.98       $0.00        $26.45   \n",
       "4           $1.99       $0.00        $12.23   "
      ]
     },
     "execution_count": 11,
     "metadata": {},
     "output_type": "execute_result"
    }
   ],
   "source": [
    "#Q2\n",
    "df = pd.read_csv('/Users/jakeottley/Documents/amazon-orders.csv')\n",
    "df.head()\n"
   ]
  },
  {
   "cell_type": "code",
   "execution_count": 12,
   "metadata": {},
   "outputs": [
    {
     "data": {
      "text/plain": [
       "(560, 11)"
      ]
     },
     "execution_count": 12,
     "metadata": {},
     "output_type": "execute_result"
    }
   ],
   "source": [
    "df.shape\n"
   ]
  },
  {
   "cell_type": "code",
   "execution_count": 13,
   "metadata": {},
   "outputs": [
    {
     "data": {
      "text/html": [
       "<div>\n",
       "<style scoped>\n",
       "    .dataframe tbody tr th:only-of-type {\n",
       "        vertical-align: middle;\n",
       "    }\n",
       "\n",
       "    .dataframe tbody tr th {\n",
       "        vertical-align: top;\n",
       "    }\n",
       "\n",
       "    .dataframe thead th {\n",
       "        text-align: right;\n",
       "    }\n",
       "</style>\n",
       "<table border=\"1\" class=\"dataframe\">\n",
       "  <thead>\n",
       "    <tr style=\"text-align: right;\">\n",
       "      <th></th>\n",
       "      <th>Order Date</th>\n",
       "      <th>Order ID</th>\n",
       "      <th>Website</th>\n",
       "      <th>Purchase Order Number</th>\n",
       "      <th>Shipment Date</th>\n",
       "      <th>Subtotal</th>\n",
       "      <th>Shipping Charge</th>\n",
       "      <th>Tax Before Promotions</th>\n",
       "      <th>Total Promotions</th>\n",
       "      <th>Tax Charged</th>\n",
       "      <th>Total Charged</th>\n",
       "    </tr>\n",
       "  </thead>\n",
       "  <tbody>\n",
       "    <tr>\n",
       "      <th>0</th>\n",
       "      <td>1/17/10</td>\n",
       "      <td>104-5228802-6864214</td>\n",
       "      <td>Amazon.com</td>\n",
       "      <td>0.0</td>\n",
       "      <td>1/26/10</td>\n",
       "      <td>$41.99</td>\n",
       "      <td>$2.98</td>\n",
       "      <td>$0.00</td>\n",
       "      <td>$2.98</td>\n",
       "      <td>$0.00</td>\n",
       "      <td>$41.99</td>\n",
       "    </tr>\n",
       "    <tr>\n",
       "      <th>1</th>\n",
       "      <td>1/30/10</td>\n",
       "      <td>104-2860256-3389027</td>\n",
       "      <td>Amazon.com</td>\n",
       "      <td>0.0</td>\n",
       "      <td>8/9/10</td>\n",
       "      <td>$24.42</td>\n",
       "      <td>$1.99</td>\n",
       "      <td>$0.00</td>\n",
       "      <td>$0.00</td>\n",
       "      <td>$0.00</td>\n",
       "      <td>$26.41</td>\n",
       "    </tr>\n",
       "    <tr>\n",
       "      <th>2</th>\n",
       "      <td>1/30/10</td>\n",
       "      <td>104-2860256-3389027</td>\n",
       "      <td>Amazon.com</td>\n",
       "      <td>0.0</td>\n",
       "      <td>2/11/10</td>\n",
       "      <td>$24.55</td>\n",
       "      <td>$3.98</td>\n",
       "      <td>$0.00</td>\n",
       "      <td>$0.00</td>\n",
       "      <td>$0.00</td>\n",
       "      <td>$28.53</td>\n",
       "    </tr>\n",
       "    <tr>\n",
       "      <th>3</th>\n",
       "      <td>3/20/10</td>\n",
       "      <td>002-3704252-7730631</td>\n",
       "      <td>Amazon.com</td>\n",
       "      <td>0.0</td>\n",
       "      <td>3/26/10</td>\n",
       "      <td>$26.45</td>\n",
       "      <td>$4.98</td>\n",
       "      <td>$0.00</td>\n",
       "      <td>$4.98</td>\n",
       "      <td>$0.00</td>\n",
       "      <td>$26.45</td>\n",
       "    </tr>\n",
       "    <tr>\n",
       "      <th>4</th>\n",
       "      <td>3/20/10</td>\n",
       "      <td>002-1911220-4068217</td>\n",
       "      <td>Amazon.com</td>\n",
       "      <td>0.0</td>\n",
       "      <td>3/26/10</td>\n",
       "      <td>$12.23</td>\n",
       "      <td>$1.99</td>\n",
       "      <td>$0.00</td>\n",
       "      <td>$1.99</td>\n",
       "      <td>$0.00</td>\n",
       "      <td>$12.23</td>\n",
       "    </tr>\n",
       "  </tbody>\n",
       "</table>\n",
       "</div>"
      ],
      "text/plain": [
       "  Order Date             Order ID     Website  Purchase Order Number  \\\n",
       "0    1/17/10  104-5228802-6864214  Amazon.com                    0.0   \n",
       "1    1/30/10  104-2860256-3389027  Amazon.com                    0.0   \n",
       "2    1/30/10  104-2860256-3389027  Amazon.com                    0.0   \n",
       "3    3/20/10  002-3704252-7730631  Amazon.com                    0.0   \n",
       "4    3/20/10  002-1911220-4068217  Amazon.com                    0.0   \n",
       "\n",
       "  Shipment Date Subtotal Shipping Charge Tax Before Promotions  \\\n",
       "0       1/26/10  $41.99           $2.98                 $0.00    \n",
       "1        8/9/10  $24.42           $1.99                 $0.00    \n",
       "2       2/11/10  $24.55           $3.98                 $0.00    \n",
       "3       3/26/10  $26.45           $4.98                 $0.00    \n",
       "4       3/26/10  $12.23           $1.99                 $0.00    \n",
       "\n",
       "  Total Promotions Tax Charged Total Charged  \n",
       "0           $2.98       $0.00        $41.99   \n",
       "1           $0.00       $0.00        $26.41   \n",
       "2           $0.00       $0.00        $28.53   \n",
       "3           $4.98       $0.00        $26.45   \n",
       "4           $1.99       $0.00        $12.23   "
      ]
     },
     "execution_count": 13,
     "metadata": {},
     "output_type": "execute_result"
    }
   ],
   "source": [
    "df = df.fillna(0)\n",
    "df.head()"
   ]
  },
  {
   "cell_type": "code",
   "execution_count": 14,
   "metadata": {},
   "outputs": [
    {
     "data": {
      "text/html": [
       "<div>\n",
       "<style scoped>\n",
       "    .dataframe tbody tr th:only-of-type {\n",
       "        vertical-align: middle;\n",
       "    }\n",
       "\n",
       "    .dataframe tbody tr th {\n",
       "        vertical-align: top;\n",
       "    }\n",
       "\n",
       "    .dataframe thead th {\n",
       "        text-align: right;\n",
       "    }\n",
       "</style>\n",
       "<table border=\"1\" class=\"dataframe\">\n",
       "  <thead>\n",
       "    <tr style=\"text-align: right;\">\n",
       "      <th></th>\n",
       "      <th>Order Date</th>\n",
       "      <th>Order ID</th>\n",
       "      <th>Website</th>\n",
       "      <th>Purchase Order Number</th>\n",
       "      <th>Shipment Date</th>\n",
       "      <th>Subtotal</th>\n",
       "      <th>Shipping Charge</th>\n",
       "      <th>Tax Before Promotions</th>\n",
       "      <th>Total Promotions</th>\n",
       "      <th>Tax Charged</th>\n",
       "      <th>Total Charged</th>\n",
       "    </tr>\n",
       "  </thead>\n",
       "  <tbody>\n",
       "    <tr>\n",
       "      <th>0</th>\n",
       "      <td>1/17/10</td>\n",
       "      <td>104-5228802-6864214</td>\n",
       "      <td>Amazon.com</td>\n",
       "      <td>0.0</td>\n",
       "      <td>1/26/10</td>\n",
       "      <td>$41.99</td>\n",
       "      <td>$2.98</td>\n",
       "      <td>$0.00</td>\n",
       "      <td>$2.98</td>\n",
       "      <td>$0.00</td>\n",
       "      <td>41.99</td>\n",
       "    </tr>\n",
       "    <tr>\n",
       "      <th>1</th>\n",
       "      <td>1/30/10</td>\n",
       "      <td>104-2860256-3389027</td>\n",
       "      <td>Amazon.com</td>\n",
       "      <td>0.0</td>\n",
       "      <td>8/9/10</td>\n",
       "      <td>$24.42</td>\n",
       "      <td>$1.99</td>\n",
       "      <td>$0.00</td>\n",
       "      <td>$0.00</td>\n",
       "      <td>$0.00</td>\n",
       "      <td>26.41</td>\n",
       "    </tr>\n",
       "    <tr>\n",
       "      <th>2</th>\n",
       "      <td>1/30/10</td>\n",
       "      <td>104-2860256-3389027</td>\n",
       "      <td>Amazon.com</td>\n",
       "      <td>0.0</td>\n",
       "      <td>2/11/10</td>\n",
       "      <td>$24.55</td>\n",
       "      <td>$3.98</td>\n",
       "      <td>$0.00</td>\n",
       "      <td>$0.00</td>\n",
       "      <td>$0.00</td>\n",
       "      <td>28.53</td>\n",
       "    </tr>\n",
       "    <tr>\n",
       "      <th>3</th>\n",
       "      <td>3/20/10</td>\n",
       "      <td>002-3704252-7730631</td>\n",
       "      <td>Amazon.com</td>\n",
       "      <td>0.0</td>\n",
       "      <td>3/26/10</td>\n",
       "      <td>$26.45</td>\n",
       "      <td>$4.98</td>\n",
       "      <td>$0.00</td>\n",
       "      <td>$4.98</td>\n",
       "      <td>$0.00</td>\n",
       "      <td>26.45</td>\n",
       "    </tr>\n",
       "    <tr>\n",
       "      <th>4</th>\n",
       "      <td>3/20/10</td>\n",
       "      <td>002-1911220-4068217</td>\n",
       "      <td>Amazon.com</td>\n",
       "      <td>0.0</td>\n",
       "      <td>3/26/10</td>\n",
       "      <td>$12.23</td>\n",
       "      <td>$1.99</td>\n",
       "      <td>$0.00</td>\n",
       "      <td>$1.99</td>\n",
       "      <td>$0.00</td>\n",
       "      <td>12.23</td>\n",
       "    </tr>\n",
       "  </tbody>\n",
       "</table>\n",
       "</div>"
      ],
      "text/plain": [
       "  Order Date             Order ID     Website  Purchase Order Number  \\\n",
       "0    1/17/10  104-5228802-6864214  Amazon.com                    0.0   \n",
       "1    1/30/10  104-2860256-3389027  Amazon.com                    0.0   \n",
       "2    1/30/10  104-2860256-3389027  Amazon.com                    0.0   \n",
       "3    3/20/10  002-3704252-7730631  Amazon.com                    0.0   \n",
       "4    3/20/10  002-1911220-4068217  Amazon.com                    0.0   \n",
       "\n",
       "  Shipment Date Subtotal Shipping Charge Tax Before Promotions  \\\n",
       "0       1/26/10  $41.99           $2.98                 $0.00    \n",
       "1        8/9/10  $24.42           $1.99                 $0.00    \n",
       "2       2/11/10  $24.55           $3.98                 $0.00    \n",
       "3       3/26/10  $26.45           $4.98                 $0.00    \n",
       "4       3/26/10  $12.23           $1.99                 $0.00    \n",
       "\n",
       "  Total Promotions Tax Charged Total Charged  \n",
       "0           $2.98       $0.00         41.99   \n",
       "1           $0.00       $0.00         26.41   \n",
       "2           $0.00       $0.00         28.53   \n",
       "3           $4.98       $0.00         26.45   \n",
       "4           $1.99       $0.00         12.23   "
      ]
     },
     "execution_count": 14,
     "metadata": {},
     "output_type": "execute_result"
    }
   ],
   "source": [
    "df[\"Total Charged\"] = df[\"Total Charged\"].str.replace('$','')\n",
    "df.head()"
   ]
  },
  {
   "cell_type": "code",
   "execution_count": 17,
   "metadata": {},
   "outputs": [
    {
     "data": {
      "text/html": [
       "<div>\n",
       "<style scoped>\n",
       "    .dataframe tbody tr th:only-of-type {\n",
       "        vertical-align: middle;\n",
       "    }\n",
       "\n",
       "    .dataframe tbody tr th {\n",
       "        vertical-align: top;\n",
       "    }\n",
       "\n",
       "    .dataframe thead th {\n",
       "        text-align: right;\n",
       "    }\n",
       "</style>\n",
       "<table border=\"1\" class=\"dataframe\">\n",
       "  <thead>\n",
       "    <tr style=\"text-align: right;\">\n",
       "      <th></th>\n",
       "      <th>Order Date</th>\n",
       "      <th>Order ID</th>\n",
       "      <th>Website</th>\n",
       "      <th>Purchase Order Number</th>\n",
       "      <th>Shipment Date</th>\n",
       "      <th>Subtotal</th>\n",
       "      <th>Shipping Charge</th>\n",
       "      <th>Tax Before Promotions</th>\n",
       "      <th>Total Promotions</th>\n",
       "      <th>Tax Charged</th>\n",
       "      <th>Total Charged</th>\n",
       "    </tr>\n",
       "  </thead>\n",
       "  <tbody>\n",
       "    <tr>\n",
       "      <th>0</th>\n",
       "      <td>1/17/10</td>\n",
       "      <td>104-5228802-6864214</td>\n",
       "      <td>Amazon.com</td>\n",
       "      <td>0.0</td>\n",
       "      <td>1/26/10</td>\n",
       "      <td>$41.99</td>\n",
       "      <td>$2.98</td>\n",
       "      <td>$0.00</td>\n",
       "      <td>$2.98</td>\n",
       "      <td>$0.00</td>\n",
       "      <td>41.99</td>\n",
       "    </tr>\n",
       "    <tr>\n",
       "      <th>1</th>\n",
       "      <td>1/30/10</td>\n",
       "      <td>104-2860256-3389027</td>\n",
       "      <td>Amazon.com</td>\n",
       "      <td>0.0</td>\n",
       "      <td>8/9/10</td>\n",
       "      <td>$24.42</td>\n",
       "      <td>$1.99</td>\n",
       "      <td>$0.00</td>\n",
       "      <td>$0.00</td>\n",
       "      <td>$0.00</td>\n",
       "      <td>26.41</td>\n",
       "    </tr>\n",
       "    <tr>\n",
       "      <th>2</th>\n",
       "      <td>1/30/10</td>\n",
       "      <td>104-2860256-3389027</td>\n",
       "      <td>Amazon.com</td>\n",
       "      <td>0.0</td>\n",
       "      <td>2/11/10</td>\n",
       "      <td>$24.55</td>\n",
       "      <td>$3.98</td>\n",
       "      <td>$0.00</td>\n",
       "      <td>$0.00</td>\n",
       "      <td>$0.00</td>\n",
       "      <td>28.53</td>\n",
       "    </tr>\n",
       "    <tr>\n",
       "      <th>3</th>\n",
       "      <td>3/20/10</td>\n",
       "      <td>002-3704252-7730631</td>\n",
       "      <td>Amazon.com</td>\n",
       "      <td>0.0</td>\n",
       "      <td>3/26/10</td>\n",
       "      <td>$26.45</td>\n",
       "      <td>$4.98</td>\n",
       "      <td>$0.00</td>\n",
       "      <td>$4.98</td>\n",
       "      <td>$0.00</td>\n",
       "      <td>26.45</td>\n",
       "    </tr>\n",
       "    <tr>\n",
       "      <th>4</th>\n",
       "      <td>3/20/10</td>\n",
       "      <td>002-1911220-4068217</td>\n",
       "      <td>Amazon.com</td>\n",
       "      <td>0.0</td>\n",
       "      <td>3/26/10</td>\n",
       "      <td>$12.23</td>\n",
       "      <td>$1.99</td>\n",
       "      <td>$0.00</td>\n",
       "      <td>$1.99</td>\n",
       "      <td>$0.00</td>\n",
       "      <td>12.23</td>\n",
       "    </tr>\n",
       "  </tbody>\n",
       "</table>\n",
       "</div>"
      ],
      "text/plain": [
       "  Order Date             Order ID     Website  Purchase Order Number  \\\n",
       "0    1/17/10  104-5228802-6864214  Amazon.com                    0.0   \n",
       "1    1/30/10  104-2860256-3389027  Amazon.com                    0.0   \n",
       "2    1/30/10  104-2860256-3389027  Amazon.com                    0.0   \n",
       "3    3/20/10  002-3704252-7730631  Amazon.com                    0.0   \n",
       "4    3/20/10  002-1911220-4068217  Amazon.com                    0.0   \n",
       "\n",
       "  Shipment Date Subtotal Shipping Charge Tax Before Promotions  \\\n",
       "0       1/26/10  $41.99           $2.98                 $0.00    \n",
       "1        8/9/10  $24.42           $1.99                 $0.00    \n",
       "2       2/11/10  $24.55           $3.98                 $0.00    \n",
       "3       3/26/10  $26.45           $4.98                 $0.00    \n",
       "4       3/26/10  $12.23           $1.99                 $0.00    \n",
       "\n",
       "  Total Promotions Tax Charged  Total Charged  \n",
       "0           $2.98       $0.00           41.99  \n",
       "1           $0.00       $0.00           26.41  \n",
       "2           $0.00       $0.00           28.53  \n",
       "3           $4.98       $0.00           26.45  \n",
       "4           $1.99       $0.00           12.23  "
      ]
     },
     "execution_count": 17,
     "metadata": {},
     "output_type": "execute_result"
    }
   ],
   "source": [
    "df[\"Total Charged\"] = df[\"Total Charged\"].astype(float)\n",
    "df.head()"
   ]
  },
  {
   "cell_type": "code",
   "execution_count": 19,
   "metadata": {},
   "outputs": [
    {
     "data": {
      "text/plain": [
       "23532.530000000002"
      ]
     },
     "execution_count": 19,
     "metadata": {},
     "output_type": "execute_result"
    }
   ],
   "source": [
    "df[\"Total Charged\"].sum()\n"
   ]
  },
  {
   "cell_type": "code",
   "execution_count": 20,
   "metadata": {},
   "outputs": [
    {
     "data": {
      "text/plain": [
       "42.022374999999975"
      ]
     },
     "execution_count": 20,
     "metadata": {},
     "output_type": "execute_result"
    }
   ],
   "source": [
    "df[\"Total Charged\"].mean()"
   ]
  },
  {
   "cell_type": "code",
   "execution_count": 21,
   "metadata": {},
   "outputs": [
    {
     "data": {
      "text/plain": [
       "27.9"
      ]
     },
     "execution_count": 21,
     "metadata": {},
     "output_type": "execute_result"
    }
   ],
   "source": [
    "df[\"Total Charged\"].median()\n"
   ]
  },
  {
   "cell_type": "code",
   "execution_count": 22,
   "metadata": {},
   "outputs": [
    {
     "data": {
      "text/plain": [
       "561.48"
      ]
     },
     "execution_count": 22,
     "metadata": {},
     "output_type": "execute_result"
    }
   ],
   "source": [
    "df[\"Total Charged\"].max()\n"
   ]
  },
  {
   "cell_type": "code",
   "execution_count": 23,
   "metadata": {},
   "outputs": [
    {
     "data": {
      "text/plain": [
       "1.74"
      ]
     },
     "execution_count": 23,
     "metadata": {},
     "output_type": "execute_result"
    }
   ],
   "source": [
    "df[\"Total Charged\"].min()"
   ]
  },
  {
   "cell_type": "code",
   "execution_count": 24,
   "metadata": {},
   "outputs": [
    {
     "data": {
      "text/html": [
       "<div>\n",
       "<style scoped>\n",
       "    .dataframe tbody tr th:only-of-type {\n",
       "        vertical-align: middle;\n",
       "    }\n",
       "\n",
       "    .dataframe tbody tr th {\n",
       "        vertical-align: top;\n",
       "    }\n",
       "\n",
       "    .dataframe thead th {\n",
       "        text-align: right;\n",
       "    }\n",
       "</style>\n",
       "<table border=\"1\" class=\"dataframe\">\n",
       "  <thead>\n",
       "    <tr style=\"text-align: right;\">\n",
       "      <th></th>\n",
       "      <th>Order Date</th>\n",
       "      <th>Order ID</th>\n",
       "      <th>Website</th>\n",
       "      <th>Purchase Order Number</th>\n",
       "      <th>Shipment Date</th>\n",
       "      <th>Subtotal</th>\n",
       "      <th>Shipping Charge</th>\n",
       "      <th>Tax Before Promotions</th>\n",
       "      <th>Total Promotions</th>\n",
       "      <th>Tax Charged</th>\n",
       "      <th>Total Charged</th>\n",
       "    </tr>\n",
       "  </thead>\n",
       "  <tbody>\n",
       "    <tr>\n",
       "      <th>0</th>\n",
       "      <td>1/17/10</td>\n",
       "      <td>104-5228802-6864214</td>\n",
       "      <td>Amazon.com</td>\n",
       "      <td>0.0</td>\n",
       "      <td>1/26/10</td>\n",
       "      <td>$41.99</td>\n",
       "      <td>$2.98</td>\n",
       "      <td>$0.00</td>\n",
       "      <td>$2.98</td>\n",
       "      <td>0.0</td>\n",
       "      <td>41.99</td>\n",
       "    </tr>\n",
       "    <tr>\n",
       "      <th>1</th>\n",
       "      <td>1/30/10</td>\n",
       "      <td>104-2860256-3389027</td>\n",
       "      <td>Amazon.com</td>\n",
       "      <td>0.0</td>\n",
       "      <td>8/9/10</td>\n",
       "      <td>$24.42</td>\n",
       "      <td>$1.99</td>\n",
       "      <td>$0.00</td>\n",
       "      <td>$0.00</td>\n",
       "      <td>0.0</td>\n",
       "      <td>26.41</td>\n",
       "    </tr>\n",
       "    <tr>\n",
       "      <th>2</th>\n",
       "      <td>1/30/10</td>\n",
       "      <td>104-2860256-3389027</td>\n",
       "      <td>Amazon.com</td>\n",
       "      <td>0.0</td>\n",
       "      <td>2/11/10</td>\n",
       "      <td>$24.55</td>\n",
       "      <td>$3.98</td>\n",
       "      <td>$0.00</td>\n",
       "      <td>$0.00</td>\n",
       "      <td>0.0</td>\n",
       "      <td>28.53</td>\n",
       "    </tr>\n",
       "    <tr>\n",
       "      <th>3</th>\n",
       "      <td>3/20/10</td>\n",
       "      <td>002-3704252-7730631</td>\n",
       "      <td>Amazon.com</td>\n",
       "      <td>0.0</td>\n",
       "      <td>3/26/10</td>\n",
       "      <td>$26.45</td>\n",
       "      <td>$4.98</td>\n",
       "      <td>$0.00</td>\n",
       "      <td>$4.98</td>\n",
       "      <td>0.0</td>\n",
       "      <td>26.45</td>\n",
       "    </tr>\n",
       "    <tr>\n",
       "      <th>4</th>\n",
       "      <td>3/20/10</td>\n",
       "      <td>002-1911220-4068217</td>\n",
       "      <td>Amazon.com</td>\n",
       "      <td>0.0</td>\n",
       "      <td>3/26/10</td>\n",
       "      <td>$12.23</td>\n",
       "      <td>$1.99</td>\n",
       "      <td>$0.00</td>\n",
       "      <td>$1.99</td>\n",
       "      <td>0.0</td>\n",
       "      <td>12.23</td>\n",
       "    </tr>\n",
       "  </tbody>\n",
       "</table>\n",
       "</div>"
      ],
      "text/plain": [
       "  Order Date             Order ID     Website  Purchase Order Number  \\\n",
       "0    1/17/10  104-5228802-6864214  Amazon.com                    0.0   \n",
       "1    1/30/10  104-2860256-3389027  Amazon.com                    0.0   \n",
       "2    1/30/10  104-2860256-3389027  Amazon.com                    0.0   \n",
       "3    3/20/10  002-3704252-7730631  Amazon.com                    0.0   \n",
       "4    3/20/10  002-1911220-4068217  Amazon.com                    0.0   \n",
       "\n",
       "  Shipment Date Subtotal Shipping Charge Tax Before Promotions  \\\n",
       "0       1/26/10  $41.99           $2.98                 $0.00    \n",
       "1        8/9/10  $24.42           $1.99                 $0.00    \n",
       "2       2/11/10  $24.55           $3.98                 $0.00    \n",
       "3       3/26/10  $26.45           $4.98                 $0.00    \n",
       "4       3/26/10  $12.23           $1.99                 $0.00    \n",
       "\n",
       "  Total Promotions  Tax Charged  Total Charged  \n",
       "0           $2.98           0.0          41.99  \n",
       "1           $0.00           0.0          26.41  \n",
       "2           $0.00           0.0          28.53  \n",
       "3           $4.98           0.0          26.45  \n",
       "4           $1.99           0.0          12.23  "
      ]
     },
     "execution_count": 24,
     "metadata": {},
     "output_type": "execute_result"
    }
   ],
   "source": [
    "df[\"Tax Charged\"] = df[\"Tax Charged\"].str.replace('$','')\n",
    "df[\"Tax Charged\"] = df[\"Tax Charged\"].astype(float)\n",
    "df.head()"
   ]
  },
  {
   "cell_type": "code",
   "execution_count": 25,
   "metadata": {},
   "outputs": [
    {
     "data": {
      "text/plain": [
       "1205.29"
      ]
     },
     "execution_count": 25,
     "metadata": {},
     "output_type": "execute_result"
    }
   ],
   "source": [
    "df[\"Tax Charged\"].sum()"
   ]
  },
  {
   "cell_type": "code",
   "execution_count": 62,
   "metadata": {},
   "outputs": [
    {
     "data": {
      "text/plain": [
       "0.05121803732960289"
      ]
     },
     "execution_count": 62,
     "metadata": {},
     "output_type": "execute_result"
    }
   ],
   "source": [
    "tax_rate = df[\"Tax Charged\"].sum() / df[\"Total Charged\"].sum()\n",
    "tax_rate"
   ]
  },
  {
   "cell_type": "code",
   "execution_count": 27,
   "metadata": {
    "scrolled": true
   },
   "outputs": [
    {
     "data": {
      "text/html": [
       "<div>\n",
       "<style scoped>\n",
       "    .dataframe tbody tr th:only-of-type {\n",
       "        vertical-align: middle;\n",
       "    }\n",
       "\n",
       "    .dataframe tbody tr th {\n",
       "        vertical-align: top;\n",
       "    }\n",
       "\n",
       "    .dataframe thead th {\n",
       "        text-align: right;\n",
       "    }\n",
       "</style>\n",
       "<table border=\"1\" class=\"dataframe\">\n",
       "  <thead>\n",
       "    <tr style=\"text-align: right;\">\n",
       "      <th></th>\n",
       "      <th>Order Date</th>\n",
       "      <th>Order ID</th>\n",
       "      <th>Website</th>\n",
       "      <th>Purchase Order Number</th>\n",
       "      <th>Shipment Date</th>\n",
       "      <th>Subtotal</th>\n",
       "      <th>Shipping Charge</th>\n",
       "      <th>Tax Before Promotions</th>\n",
       "      <th>Total Promotions</th>\n",
       "      <th>Tax Charged</th>\n",
       "      <th>Total Charged</th>\n",
       "    </tr>\n",
       "  </thead>\n",
       "  <tbody>\n",
       "    <tr>\n",
       "      <th>0</th>\n",
       "      <td>2010-01-17</td>\n",
       "      <td>104-5228802-6864214</td>\n",
       "      <td>Amazon.com</td>\n",
       "      <td>0.0</td>\n",
       "      <td>1/26/10</td>\n",
       "      <td>$41.99</td>\n",
       "      <td>$2.98</td>\n",
       "      <td>$0.00</td>\n",
       "      <td>$2.98</td>\n",
       "      <td>0.0</td>\n",
       "      <td>41.99</td>\n",
       "    </tr>\n",
       "    <tr>\n",
       "      <th>1</th>\n",
       "      <td>2010-01-30</td>\n",
       "      <td>104-2860256-3389027</td>\n",
       "      <td>Amazon.com</td>\n",
       "      <td>0.0</td>\n",
       "      <td>8/9/10</td>\n",
       "      <td>$24.42</td>\n",
       "      <td>$1.99</td>\n",
       "      <td>$0.00</td>\n",
       "      <td>$0.00</td>\n",
       "      <td>0.0</td>\n",
       "      <td>26.41</td>\n",
       "    </tr>\n",
       "    <tr>\n",
       "      <th>2</th>\n",
       "      <td>2010-01-30</td>\n",
       "      <td>104-2860256-3389027</td>\n",
       "      <td>Amazon.com</td>\n",
       "      <td>0.0</td>\n",
       "      <td>2/11/10</td>\n",
       "      <td>$24.55</td>\n",
       "      <td>$3.98</td>\n",
       "      <td>$0.00</td>\n",
       "      <td>$0.00</td>\n",
       "      <td>0.0</td>\n",
       "      <td>28.53</td>\n",
       "    </tr>\n",
       "    <tr>\n",
       "      <th>3</th>\n",
       "      <td>2010-03-20</td>\n",
       "      <td>002-3704252-7730631</td>\n",
       "      <td>Amazon.com</td>\n",
       "      <td>0.0</td>\n",
       "      <td>3/26/10</td>\n",
       "      <td>$26.45</td>\n",
       "      <td>$4.98</td>\n",
       "      <td>$0.00</td>\n",
       "      <td>$4.98</td>\n",
       "      <td>0.0</td>\n",
       "      <td>26.45</td>\n",
       "    </tr>\n",
       "    <tr>\n",
       "      <th>4</th>\n",
       "      <td>2010-03-20</td>\n",
       "      <td>002-1911220-4068217</td>\n",
       "      <td>Amazon.com</td>\n",
       "      <td>0.0</td>\n",
       "      <td>3/26/10</td>\n",
       "      <td>$12.23</td>\n",
       "      <td>$1.99</td>\n",
       "      <td>$0.00</td>\n",
       "      <td>$1.99</td>\n",
       "      <td>0.0</td>\n",
       "      <td>12.23</td>\n",
       "    </tr>\n",
       "  </tbody>\n",
       "</table>\n",
       "</div>"
      ],
      "text/plain": [
       "  Order Date             Order ID     Website  Purchase Order Number  \\\n",
       "0 2010-01-17  104-5228802-6864214  Amazon.com                    0.0   \n",
       "1 2010-01-30  104-2860256-3389027  Amazon.com                    0.0   \n",
       "2 2010-01-30  104-2860256-3389027  Amazon.com                    0.0   \n",
       "3 2010-03-20  002-3704252-7730631  Amazon.com                    0.0   \n",
       "4 2010-03-20  002-1911220-4068217  Amazon.com                    0.0   \n",
       "\n",
       "  Shipment Date Subtotal Shipping Charge Tax Before Promotions  \\\n",
       "0       1/26/10  $41.99           $2.98                 $0.00    \n",
       "1        8/9/10  $24.42           $1.99                 $0.00    \n",
       "2       2/11/10  $24.55           $3.98                 $0.00    \n",
       "3       3/26/10  $26.45           $4.98                 $0.00    \n",
       "4       3/26/10  $12.23           $1.99                 $0.00    \n",
       "\n",
       "  Total Promotions  Tax Charged  Total Charged  \n",
       "0           $2.98           0.0          41.99  \n",
       "1           $0.00           0.0          26.41  \n",
       "2           $0.00           0.0          28.53  \n",
       "3           $4.98           0.0          26.45  \n",
       "4           $1.99           0.0          12.23  "
      ]
     },
     "execution_count": 27,
     "metadata": {},
     "output_type": "execute_result"
    }
   ],
   "source": [
    "df['Order Date'] = pd.to_datetime(df['Order Date'])\n",
    "df.head()"
   ]
  },
  {
   "cell_type": "code",
   "execution_count": 31,
   "metadata": {},
   "outputs": [
    {
     "data": {
      "text/plain": [
       "<AxesSubplot:xlabel='Order Date'>"
      ]
     },
     "execution_count": 31,
     "metadata": {},
     "output_type": "execute_result"
    },
    {
     "data": {
      "image/png": "[encoded data removed]",
      "text/plain": [
       "<Figure size 3600x720 with 1 Axes>"
      ]
     },
     "metadata": {
      "needs_background": "light"
     },
     "output_type": "display_data"
    }
   ],
   "source": [
    "df.plot.bar(x='Order Date', y='Total Charged', rot=90, figsize=(50,10))"
   ]
  },
  {
   "cell_type": "code",
   "execution_count": 32,
   "metadata": {},
   "outputs": [
    {
     "data": {
      "text/plain": [
       "Order Date\n",
       "2010-01-17    41.99\n",
       "2010-01-30    54.94\n",
       "2010-03-20    60.37\n",
       "2010-04-26    25.77\n",
       "2010-09-06    32.97\n",
       "Name: Total Charged, dtype: float64"
      ]
     },
     "execution_count": 32,
     "metadata": {},
     "output_type": "execute_result"
    }
   ],
   "source": [
    "daily_orders = df.groupby('Order Date').sum()[\"Total Charged\"]\n",
    "daily_orders.head()"
   ]
  },
  {
   "cell_type": "code",
   "execution_count": 37,
   "metadata": {},
   "outputs": [
    {
     "data": {
      "text/plain": [
       "<AxesSubplot:xlabel='Order Date'>"
      ]
     },
     "execution_count": 37,
     "metadata": {},
     "output_type": "execute_result"
    },
    {
     "data": {
      "image/png": "[encoded data removed]",
      "text/plain": [
       "<Figure size 3600x720 with 1 Axes>"
      ]
     },
     "metadata": {
      "needs_background": "light"
     },
     "output_type": "display_data"
    }
   ],
   "source": [
    "daily_orders.plot.bar(figsize=(50,10))"
   ]
  },
  {
   "cell_type": "code",
   "execution_count": null,
   "metadata": {},
   "outputs": [],
   "source": []
  }
 ],
 "metadata": {
  "kernelspec": {
   "display_name": "Python 3",
   "language": "python",
   "name": "python3"
  },
  "language_info": {
   "codemirror_mode": {
    "name": "ipython",
    "version": 3
   },
   "file_extension": ".py",
   "mimetype": "text/x-python",
   "name": "python",
   "nbconvert_exporter": "python",
   "pygments_lexer": "ipython3",
   "version": "3.8.5"
  }
 },
 "nbformat": 4,
 "nbformat_minor": 4
}
