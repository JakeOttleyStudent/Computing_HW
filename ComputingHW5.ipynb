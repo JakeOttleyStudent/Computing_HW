{
 "cells": [
  {
   "cell_type": "code",
   "execution_count": 2,
   "metadata": {},
   "outputs": [
    {
     "name": "stdout",
     "output_type": "stream",
     "text": [
      "5:30\n"
     ]
    }
   ],
   "source": [
    "#Q1\n",
    "    #a) I think this will print out 6:30, not 5:30\n",
    "    \n",
    "class Clock():\n",
    "    def __init__(self, time):\n",
    "        self.time = time\n",
    "    def print_time(self):\n",
    "        time = '6:30'\n",
    "        print(self.time)\n",
    "clock = Clock('5:30')\n",
    "clock.print_time()\n",
    "    "
   ]
  },
  {
   "cell_type": "code",
   "execution_count": null,
   "metadata": {},
   "outputs": [],
   "source": [
    "    #b) It prints 5:30 because self.time is established before the value for time is reassigned to be 6:30"
   ]
  },
  {
   "cell_type": "code",
   "execution_count": 5,
   "metadata": {},
   "outputs": [
    {
     "name": "stdout",
     "output_type": "stream",
     "text": [
      "10:30\n"
     ]
    }
   ],
   "source": [
    "#Q2\n",
    "    #a) I believe this will print 10:30\n",
    "class Clock():\n",
    "    def __init__(self, time):\n",
    "        self.time = time\n",
    "    def print_time(self, time):\n",
    "        print(time)\n",
    "clock = Clock('5:30')\n",
    "clock.print_time('10:30')"
   ]
  },
  {
   "cell_type": "code",
   "execution_count": null,
   "metadata": {},
   "outputs": [],
   "source": [
    "    #b) It prints 10:30 because the argument for time is established in print_time"
   ]
  },
  {
   "cell_type": "code",
   "execution_count": 7,
   "metadata": {},
   "outputs": [
    {
     "name": "stdout",
     "output_type": "stream",
     "text": [
      "5:30\n",
      "10:30\n"
     ]
    }
   ],
   "source": [
    "#Q3\n",
    "    #a) I believe this will print 5:30 and 10:30\n",
    "class Clock():\n",
    "    def __init__(self, time):\n",
    "        self.time = time\n",
    "    def print_time(self):\n",
    "        print(self.time)\n",
    "        \n",
    "class Clock1(Clock):\n",
    "    pass\n",
    "\n",
    "boston_clock = Clock('5:30')\n",
    "paris_clock = Clock1('10:30')\n",
    "\n",
    "boston_clock.print_time()\n",
    "paris_clock.print_time()"
   ]
  },
  {
   "cell_type": "code",
   "execution_count": null,
   "metadata": {},
   "outputs": [],
   "source": [
    "    #b) Boston clock and Paris clock are different objects. Clock1 is a child class of Clock, so it is a separate\n",
    "    # class with the properties of Clock."
   ]
  },
  {
   "cell_type": "code",
   "execution_count": 25,
   "metadata": {},
   "outputs": [
    {
     "name": "stdout",
     "output_type": "stream",
     "text": [
      "[5, 6]\n",
      "[6, 7]\n",
      "queue is empty now\n"
     ]
    }
   ],
   "source": [
    "#Q4\n",
    "class Queue():\n",
    "    def __init__(self):\n",
    "        self.line = [] #creates an empty queue\n",
    "        \n",
    "    def print(self):\n",
    "        print(self.line) #prints list\n",
    "        \n",
    "    def insert(self, elem):\n",
    "        self.line.append(elem) #appends elem to end of list\n",
    "         \n",
    "    def remove(self):\n",
    "        if len(self.line) == 0: #checks if the list is empty\n",
    "            print('queue is empty now')\n",
    "        else:\n",
    "            self.line.pop(0) #removes first elem of list\n",
    "\n",
    "queue = Queue()\n",
    "queue.insert(5)\n",
    "queue.insert(6)\n",
    "queue.print()\n",
    "\n",
    "queue.insert(7)\n",
    "queue.remove()\n",
    "queue.print()\n",
    "\n",
    "queue.remove()\n",
    "queue.remove()\n",
    "queue.remove()"
   ]
  }
 ],
 "metadata": {
  "kernelspec": {
   "display_name": "Python 3",
   "language": "python",
   "name": "python3"
  },
  "language_info": {
   "codemirror_mode": {
    "name": "ipython",
    "version": 3
   },
   "file_extension": ".py",
   "mimetype": "text/x-python",
   "name": "python",
   "nbconvert_exporter": "python",
   "pygments_lexer": "ipython3",
   "version": "3.8.5"
  }
 },
 "nbformat": 4,
 "nbformat_minor": 4
}
